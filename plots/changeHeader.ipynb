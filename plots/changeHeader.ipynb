{
 "cells": [
  {
   "cell_type": "code",
   "execution_count": null,
   "metadata": {
    "collapsed": true
   },
   "outputs": [],
   "source": [
    "import os\n",
    "#import ipdb\n",
    "\n",
    "import pandas as pd\n",
    "import matplotlib as mpl\n",
    "from matplotlib import lines\n",
    "from matplotlib import pyplot as plt\n",
    "import matplotlib.dates as mdates\n",
    "import numpy as np\n",
    "import seaborn as sns\n",
    "INPUT_DIR = os.path.join( os.getcwd(), 'inputs/lluc/8clients')\n",
    "\n",
    "def appendHeader(inputs, subs, header):    \n",
    "    for parent in inputs:\n",
    "        input_dir = os.path.join(INPUT_DIR, parent)\n",
    "        for sub in subs:\n",
    "            dir1 = os.path.join(input_dir, sub)\n",
    "            for filename in os.listdir(dir1):\n",
    "                f = open(dir1+'/'+filename,'r+')\n",
    "                lines = f.readlines() # read old content\n",
    "                f.seek(0) # go back to the beginning of the file\n",
    "                f.write(header) # write new content at the beginning\n",
    "                for line in lines: # write old content after new\n",
    "                    f.write(line)\n",
    "                f.close()\n",
    "            \n",
    "    \n",
    "if __name__ == '__main__':\n",
    "    inputs = ['74','77','78','115','116','118','180','181']\n",
    "    subs = ['10mb', '100mb','vevo','ted']\n",
    "    appendHeader(inputs, subs, 'date,download,status,size\\n')\n",
    "    \n",
    "    subs = ['slideshare']\n",
    "    appendHeader(inputs, subs, 'date,download,status\\n')"
   ]
  }
 ],
 "metadata": {
  "kernelspec": {
   "display_name": "Python 3",
   "language": "python",
   "name": "python3"
  },
  "language_info": {
   "codemirror_mode": {
    "name": "ipython",
    "version": 3
   },
   "file_extension": ".py",
   "mimetype": "text/x-python",
   "name": "python",
   "nbconvert_exporter": "python",
   "pygments_lexer": "ipython3",
   "version": "3.6.0"
  }
 },
 "nbformat": 4,
 "nbformat_minor": 2
}
