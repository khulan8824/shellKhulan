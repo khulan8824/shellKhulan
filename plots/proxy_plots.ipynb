{
 "cells": [
  {
   "cell_type": "code",
   "execution_count": 43,
   "metadata": {},
   "outputs": [
    {
     "data": {
      "image/png": "[encoded data removed]",
      "text/plain": [
       "<matplotlib.figure.Figure at 0x7fcac69937b8>"
      ]
     },
     "metadata": {},
     "output_type": "display_data"
    }
   ],
   "source": [
    "import os\n",
    "#import ipdb\n",
    "\n",
    "import pandas as pd\n",
    "import matplotlib as mpl\n",
    "from matplotlib import lines\n",
    "from matplotlib import pyplot as plt\n",
    "import numpy as np\n",
    "import seaborn as sns\n",
    "\n",
    "EXP_NAME = \"inputs\"\n",
    "MAX_ROUNDS = 50\n",
    "MAX_YVAL = 5\n",
    "\n",
    "RESULTS_DIR = os.path.join( os.getcwd(),'results')\n",
    "INPUT_DIR = os.path.join( os.getcwd(), 'inputs')\n",
    "\n",
    "\n",
    "##SET SEABORN STYLE\n",
    "sns.set_style(\"whitegrid\")\n",
    "sns.set_context(\"paper\")\n",
    "\n",
    "##SET MATPLOTLIB STYLE\n",
    "TICKS_FONTSIZE = 16\n",
    "LABEL_FONTSIZE=18\n",
    "LEGEND_FONTSIZE=15\n",
    "linestyles = (':','-','.','--')\n",
    "\n",
    "mpl.rcParams['xtick.labelsize'] = TICKS_FONTSIZE \n",
    "mpl.rcParams['ytick.labelsize'] = TICKS_FONTSIZE\n",
    "mpl.rcParams['legend.fontsize'] = TICKS_FONTSIZE\n",
    "mpl.rcParams['axes.labelsize'] = LABEL_FONTSIZE\n",
    "mpl.rcParams['axes.titlesize'] = LABEL_FONTSIZE\n",
    "mpl.rcParams['font.size'] = LABEL_FONTSIZE\n",
    "plt.rc('legend',**{'fontsize':LEGEND_FONTSIZE})\n",
    "\n",
    "def read_inputs():\n",
    "    \"\"\"\"Reads the results for all the nodes and returns\n",
    "    a list of pandas Dataframes, one for each node\"\"\"\n",
    "    #Get list of nodes(files) with results\n",
    "    nodes = [f for f in os.listdir(INPUT_DIR) if os.path.isfile(os.path.join(INPUT_DIR, f))]\n",
    "    #Load results from each node\n",
    "    nodes_results = {}\n",
    "    for node in nodes:\n",
    "        f = os.path.join(INPUT_DIR,node)\n",
    "        try:\n",
    "            nodes_results[node] = pd.read_csv(f)\n",
    "            nodes_results[node] = nodes_results[node].replace('None',np.nan)\n",
    "        except Exception:\n",
    "            print('EXception')\n",
    "    return nodes_results    \n",
    "\n",
    "def plot_var_per_round(results, var):\n",
    "    \"\"\"Plot the median acrros nodes of a variable\"\"\"\n",
    "    median = getMedianDF(results,var)\n",
    "    #Create new figure\n",
    "    fig = plt.figure()\n",
    "    #Print the plot\n",
    "    median.plot()\n",
    "    #Modify parameters\n",
    "    plt.ylabel(var)\n",
    "    plt.xlabel('time')\n",
    "    plt.xlim(0,MAX_ROUNDS)\n",
    "    plt.ylim(0,MAX_YVAL)\n",
    "    #Dummy line to avoid bug of matplotlib that closes image right after plot\n",
    "    #It's a readline function, just press enter\n",
    "    #input('Done')\n",
    "    #You can also automatically save figures\n",
    "    #fig.savefig(os.path.join(GRAPHS_DIR,var.replace(' ','_')+'_per_round.png'), format='png', dpi=fig.dpi)\n",
    "\n",
    "def plot_separately(results,variables, legend):\n",
    "\n",
    "    # Get median time series for all varibales\n",
    "    medians = [getMedianDF(results,var) for var in variables]\n",
    "    #print(medians)\n",
    "    i=0\n",
    "    colors = ['red', 'blue']\n",
    "    lbl=[]\n",
    "    for median in medians:\n",
    "        median.plot(label = legend[i], linewidth=2.0, linestyle=linestyles[i], color=colors[i])\n",
    "        lbl.append(legend[i])\n",
    "        i+=1\n",
    "    plt.legend(variables)\n",
    "    plt.ylabel(legend)\n",
    "    plt.xlim(0,MAX_ROUNDS)\n",
    "    plt.ylim(0,MAX_YVAL)\n",
    "    plt.show()\n",
    "    \n",
    "######### Assistant functions###############\n",
    "\n",
    "def getMedianDF(nodes_results,var):\n",
    "    \"\"\"\"Helper function that extracts median time series of the var accross the various nodes\"\"\"\n",
    "    series = []\n",
    "    total=0\n",
    "    count=0\n",
    "    for name,r in nodes_results.items():\n",
    "        #Normalize duplicate rounds\n",
    "        #r['date'] = r['date'].apply(np.trunc)\n",
    "        s = r.groupby('date',axis=0).mean()[var]\n",
    "        total+=s.mean()\n",
    "        count+=1\n",
    "        s.name = name\n",
    "        series.append(s)\n",
    "    #try:\n",
    "    df = pd.concat(series,axis=1)\n",
    "    #except:\n",
    "        #ipdb.set_trace()\n",
    "    median = df.median(axis=1)\n",
    "    median.name = var\n",
    "    return median\n",
    "\n",
    "if __name__ == '__main__':\n",
    "\n",
    "    nodes_results = read_inputs()\n",
    "    #print(nodes_results['10.139.40.85:3128']['download'])\n",
    "    plot_separately(nodes_results, ['download'], 'download')\n",
    "    #plot_comparative(nodes_results,'download')"
   ]
  },
  {
   "cell_type": "code",
   "execution_count": 30,
   "metadata": {},
   "outputs": [
    {
     "data": {
      "text/plain": [
       "array([-1., -1., -0.,  0.,  1.,  1.,  2.])"
      ]
     },
     "execution_count": 30,
     "metadata": {},
     "output_type": "execute_result"
    }
   ],
   "source": [
    "a = np.array([-1.7, -1.5, -0.2, 0.2, 1.5, 1.7, 2.0])\n",
    "np.trunc(a)"
   ]
  },
  {
   "cell_type": "code",
   "execution_count": null,
   "metadata": {
    "collapsed": true
   },
   "outputs": [],
   "source": []
  }
 ],
 "metadata": {
  "kernelspec": {
   "display_name": "Python 3",
   "language": "python",
   "name": "python3"
  },
  "language_info": {
   "codemirror_mode": {
    "name": "ipython",
    "version": 3
   },
   "file_extension": ".py",
   "mimetype": "text/x-python",
   "name": "python",
   "nbconvert_exporter": "python",
   "pygments_lexer": "ipython3",
   "version": "3.6.0"
  }
 },
 "nbformat": 4,
 "nbformat_minor": 2
}
